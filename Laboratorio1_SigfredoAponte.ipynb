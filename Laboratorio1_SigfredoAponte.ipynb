{
    "metadata": {
        "kernelspec": {
            "name": "SQL",
            "display_name": "SQL",
            "language": "sql"
        },
        "language_info": {
            "name": "sql",
            "version": ""
        }
    },
    "nbformat_minor": 2,
    "nbformat": 4,
    "cells": [
        {
            "cell_type": "markdown",
            "source": "<H1><center>UTILIZANDO EXPRESIONES DE TABLA",
            "metadata": {}
        },
        {
            "cell_type": "markdown",
            "source": "1. Utilizando Vistas",
            "metadata": {}
        },
        {
            "cell_type": "markdown",
            "source": "1.1. Accediendo a la base de datos TSQL",
            "metadata": {}
        },
        {
            "cell_type": "code",
            "source": "USE TSQL;\r\nGO",
            "metadata": {},
            "outputs": [
                {
                    "output_type": "display_data",
                    "data": {
                        "text/html": "Commands completed successfully."
                    },
                    "metadata": {}
                },
                {
                    "output_type": "display_data",
                    "data": {
                        "text/html": "Total execution time: 00:00:00.001"
                    },
                    "metadata": {}
                }
            ],
            "execution_count": 8
        },
        {
            "cell_type": "markdown",
            "source": "1.2. Write a SELECT statement to return the productid, productname, supplierid, unitprice, and\r\ndiscontinued columns from the Production.Products table. Filter the results to include only products\r\nthat belong to the category Beverages (categoryid equals 1)",
            "metadata": {}
        },
        {
            "cell_type": "code",
            "source": "DECLARE @beveragesid INT = 1;\r\nSELECT productid,productname,supplierid,unitprice \r\nFROM Production.Products WHERE categoryid=@beveragesid",
            "metadata": {},
            "outputs": [
                {
                    "output_type": "display_data",
                    "data": {
                        "text/html": "(12 rows affected)"
                    },
                    "metadata": {}
                },
                {
                    "output_type": "display_data",
                    "data": {
                        "text/html": "Total execution time: 00:00:00.003"
                    },
                    "metadata": {}
                },
                {
                    "output_type": "execute_result",
                    "metadata": {},
                    "execution_count": 13,
                    "data": {
                        "application/vnd.dataresource+json": {
                            "schema": {
                                "fields": [
                                    {
                                        "name": "productid"
                                    },
                                    {
                                        "name": "productname"
                                    },
                                    {
                                        "name": "supplierid"
                                    },
                                    {
                                        "name": "unitprice"
                                    }
                                ]
                            },
                            "data": [
                                {
                                    "0": "1",
                                    "1": "Product HHYDP",
                                    "2": "1",
                                    "3": "18,0000"
                                },
                                {
                                    "0": "2",
                                    "1": "Product RECZE",
                                    "2": "1",
                                    "3": "19,0000"
                                },
                                {
                                    "0": "24",
                                    "1": "Product QOGNU",
                                    "2": "10",
                                    "3": "4,5000"
                                },
                                {
                                    "0": "34",
                                    "1": "Product SWNJY",
                                    "2": "16",
                                    "3": "14,0000"
                                },
                                {
                                    "0": "35",
                                    "1": "Product NEVTJ",
                                    "2": "16",
                                    "3": "18,0000"
                                },
                                {
                                    "0": "38",
                                    "1": "Product QDOMO",
                                    "2": "18",
                                    "3": "263,5000"
                                },
                                {
                                    "0": "39",
                                    "1": "Product LSOFL",
                                    "2": "18",
                                    "3": "18,0000"
                                },
                                {
                                    "0": "43",
                                    "1": "Product ZZZHR",
                                    "2": "20",
                                    "3": "46,0000"
                                },
                                {
                                    "0": "67",
                                    "1": "Product XLXQF",
                                    "2": "16",
                                    "3": "14,0000"
                                },
                                {
                                    "0": "70",
                                    "1": "Product TOONT",
                                    "2": "7",
                                    "3": "15,0000"
                                },
                                {
                                    "0": "75",
                                    "1": "Product BWRLG",
                                    "2": "12",
                                    "3": "7,7500"
                                },
                                {
                                    "0": "76",
                                    "1": "Product JYGFE",
                                    "2": "23",
                                    "3": "18,0000"
                                }
                            ]
                        },
                        "text/html": "<table><tr><th>productid</th><th>productname</th><th>supplierid</th><th>unitprice</th></tr><tr><td>1</td><td>Product HHYDP</td><td>1</td><td>18,0000</td></tr><tr><td>2</td><td>Product RECZE</td><td>1</td><td>19,0000</td></tr><tr><td>24</td><td>Product QOGNU</td><td>10</td><td>4,5000</td></tr><tr><td>34</td><td>Product SWNJY</td><td>16</td><td>14,0000</td></tr><tr><td>35</td><td>Product NEVTJ</td><td>16</td><td>18,0000</td></tr><tr><td>38</td><td>Product QDOMO</td><td>18</td><td>263,5000</td></tr><tr><td>39</td><td>Product LSOFL</td><td>18</td><td>18,0000</td></tr><tr><td>43</td><td>Product ZZZHR</td><td>20</td><td>46,0000</td></tr><tr><td>67</td><td>Product XLXQF</td><td>16</td><td>14,0000</td></tr><tr><td>70</td><td>Product TOONT</td><td>7</td><td>15,0000</td></tr><tr><td>75</td><td>Product BWRLG</td><td>12</td><td>7,7500</td></tr><tr><td>76</td><td>Product JYGFE</td><td>23</td><td>18,0000</td></tr></table>"
                    }
                }
            ],
            "execution_count": 13
        },
        {
            "cell_type": "markdown",
            "source": "1.3. Modify the T-SQL code to include the following supplied T-SQL statement. Put this statement before\r\nthe SELECT clause:",
            "metadata": {}
        },
        {
            "cell_type": "code",
            "source": "CREATE VIEW Production.ProductsBeverages AS select productid,productname,supplierid,unitprice from Production.Products where categoryid=1",
            "metadata": {},
            "outputs": [
                {
                    "output_type": "display_data",
                    "data": {
                        "text/html": "Commands completed successfully."
                    },
                    "metadata": {}
                },
                {
                    "output_type": "display_data",
                    "data": {
                        "text/html": "Total execution time: 00:00:00.001"
                    },
                    "metadata": {}
                }
            ],
            "execution_count": 11
        },
        {
            "cell_type": "markdown",
            "source": "1.4. Write a SELECT statement to return the productid and productname columns from the\r\nProduction.ProductsBeverages view. Filter the results to include only products where supplierid equals\r\n1",
            "metadata": {}
        },
        {
            "cell_type": "code",
            "source": "DECLARE @supplierid INT = 1;\r\nSELECT productid,productname \r\nFROM Production.ProductsBeverages WHERE supplierid =@supplierid",
            "metadata": {},
            "outputs": [
                {
                    "output_type": "display_data",
                    "data": {
                        "text/html": "(2 rows affected)"
                    },
                    "metadata": {}
                },
                {
                    "output_type": "display_data",
                    "data": {
                        "text/html": "Total execution time: 00:00:00.005"
                    },
                    "metadata": {}
                },
                {
                    "output_type": "execute_result",
                    "metadata": {},
                    "execution_count": 14,
                    "data": {
                        "application/vnd.dataresource+json": {
                            "schema": {
                                "fields": [
                                    {
                                        "name": "productid"
                                    },
                                    {
                                        "name": "productname"
                                    }
                                ]
                            },
                            "data": [
                                {
                                    "0": "1",
                                    "1": "Product HHYDP"
                                },
                                {
                                    "0": "2",
                                    "1": "Product RECZE"
                                }
                            ]
                        },
                        "text/html": "<table><tr><th>productid</th><th>productname</th></tr><tr><td>1</td><td>Product HHYDP</td></tr><tr><td>2</td><td>Product RECZE</td></tr></table>"
                    }
                }
            ],
            "execution_count": 14
        },
        {
            "cell_type": "markdown",
            "source": "1.5. The IT department has written a T-SQL statement that adds an additional calculated column to the",
            "metadata": {}
        },
        {
            "cell_type": "code",
            "source": "ALTER VIEW Production.ProductsBeverages AS\r\nSELECT\r\nproductid, productname, supplierid, unitprice, discontinued,\r\nCASE WHEN unitprice > 100. THEN N'high' ELSE N'normal' END as pricetype\r\nFROM Production.Products \r\nWHERE categoryid = 1; ",
            "metadata": {},
            "outputs": [
                {
                    "output_type": "display_data",
                    "data": {
                        "text/html": "Commands completed successfully."
                    },
                    "metadata": {}
                },
                {
                    "output_type": "display_data",
                    "data": {
                        "text/html": "Total execution time: 00:00:00.002"
                    },
                    "metadata": {}
                }
            ],
            "execution_count": 3
        },
        {
            "cell_type": "markdown",
            "source": "1.6. Apply the changes needed to get the T-SQL statement to execute properly",
            "metadata": {}
        },
        {
            "cell_type": "code",
            "source": "ALTER VIEW Production.ProductsBeverages AS\r\nSELECT\r\nproductid, productname, supplierid, unitprice, discontinued,\r\nCASE WHEN unitprice > 100. THEN N'high' ELSE N'normal' END as pricetype \r\nFROM Production.Products \r\nWHERE categoryid = 1; ",
            "metadata": {},
            "outputs": [
                {
                    "output_type": "display_data",
                    "data": {
                        "text/html": "Commands completed successfully."
                    },
                    "metadata": {}
                },
                {
                    "output_type": "display_data",
                    "data": {
                        "text/html": "Total execution time: 00:00:00.001"
                    },
                    "metadata": {}
                }
            ],
            "execution_count": 4
        },
        {
            "cell_type": "markdown",
            "source": "2. Utilizando utilizando Tablas Derivadas",
            "metadata": {}
        },
        {
            "cell_type": "markdown",
            "source": "2.1. Write a SELECT statement against a derived \r\n\r\n and retrieve the productid and productname\r\ncolumns. Filter the results to include only the rows in which the pricetype column value is equal to\r\nhigh. Use the SELECT statement from exercise 1, task 4, as the inner query that defines the derived\r\ntable. Do not forget to use an alias for the derived table. (You can use the alias “p”.)",
            "metadata": {}
        },
        {
            "cell_type": "code",
            "source": "SELECT \r\n    p.productid,productname\r\nFROM\r\n    (\r\n        SELECT \r\n            productid,productname,supplierid,unitprice,discontinued,\r\n            CASE WHEN unitprice > 100. THEN N'high' ElSE N'normal' END AS pricetype\r\n        FROM Production.Products\r\n        WHERE categoryid=1\r\n    )AS P\r\nWHERE p.pricetype=N'high';",
            "metadata": {},
            "outputs": [
                {
                    "output_type": "display_data",
                    "data": {
                        "text/html": "(1 row affected)"
                    },
                    "metadata": {}
                },
                {
                    "output_type": "display_data",
                    "data": {
                        "text/html": "Total execution time: 00:00:00.003"
                    },
                    "metadata": {}
                },
                {
                    "output_type": "execute_result",
                    "metadata": {},
                    "execution_count": 15,
                    "data": {
                        "application/vnd.dataresource+json": {
                            "schema": {
                                "fields": [
                                    {
                                        "name": "productid"
                                    },
                                    {
                                        "name": "productname"
                                    }
                                ]
                            },
                            "data": [
                                {
                                    "0": "38",
                                    "1": "Product QDOMO"
                                }
                            ]
                        },
                        "text/html": "<table><tr><th>productid</th><th>productname</th></tr><tr><td>38</td><td>Product QDOMO</td></tr></table>"
                    }
                }
            ],
            "execution_count": 15
        },
        {
            "cell_type": "markdown",
            "source": "2.2. Write a SELECT statement to retrieve the custid column and two calculated columns:\r\ntotalsalesamount, which returns the total sales amount per customer, and avgsalesamount, which\r\nreturns the average sales amount of orders per customer. To correctly calculate the average sales\r\namount of orders per customer, you should first calculate the total sales amount per order. You can\r\ndo so by defining a derived table based on a query that joins the Sales.Orders and Sales.OrderDetails\r\ntables. You can use the custid and orderid columns from the Sales.Orders table and the qty and\r\nunitprice columns from the Sales.OrderDetails table",
            "metadata": {}
        },
        {
            "cell_type": "code",
            "source": "select \r\n    c.custid,\r\n    sum(c.totalsalesmountperorder) AS totalsalesmount,\r\n    AVG(c.totalsalesmountperorder) AS avgsalesmount\r\nFROM\r\n    (\r\n        SELECT\r\n            o.custid,o.orderid, SUM(d.unitprice*d.qty) as totalsalesmountperorder\r\n        FROM Sales.Orders as o\r\n        inner join Sales.OrderDetails d on d.orderid=o.orderid\r\n        Group by o.custid,o.orderid\r\n    ) AS c\r\n    GROUP BY c.custid;",
            "metadata": {},
            "outputs": [
                {
                    "output_type": "display_data",
                    "data": {
                        "text/html": "(89 rows affected)"
                    },
                    "metadata": {}
                },
                {
                    "output_type": "display_data",
                    "data": {
                        "text/html": "Total execution time: 00:00:00.017"
                    },
                    "metadata": {}
                },
                {
                    "output_type": "execute_result",
                    "execution_count": 6,
                    "data": {
                        "application/vnd.dataresource+json": {
                            "schema": {
                                "fields": [
                                    {
                                        "name": "custid"
                                    },
                                    {
                                        "name": "totalsalesmount"
                                    },
                                    {
                                        "name": "avgsalesmount"
                                    }
                                ]
                            },
                            "data": [
                                {
                                    "0": "1",
                                    "1": "4596,2000",
                                    "2": "766,0333"
                                },
                                {
                                    "0": "2",
                                    "1": "1402,9500",
                                    "2": "350,7375"
                                },
                                {
                                    "0": "3",
                                    "1": "7515,3500",
                                    "2": "1073,6214"
                                },
                                {
                                    "0": "4",
                                    "1": "13806,5000",
                                    "2": "1062,0384"
                                },
                                {
                                    "0": "5",
                                    "1": "26968,1500",
                                    "2": "1498,2305"
                                },
                                {
                                    "0": "6",
                                    "1": "3239,8000",
                                    "2": "462,8285"
                                },
                                {
                                    "0": "7",
                                    "1": "19088,0000",
                                    "2": "1735,2727"
                                },
                                {
                                    "0": "8",
                                    "1": "5297,8000",
                                    "2": "1765,9333"
                                },
                                {
                                    "0": "9",
                                    "1": "23850,9500",
                                    "2": "1402,9970"
                                },
                                {
                                    "0": "10",
                                    "1": "22607,7000",
                                    "2": "1614,8357"
                                },
                                {
                                    "0": "11",
                                    "1": "6089,9000",
                                    "2": "608,9900"
                                },
                                {
                                    "0": "12",
                                    "1": "1814,8000",
                                    "2": "302,4666"
                                },
                                {
                                    "0": "13",
                                    "1": "100,8000",
                                    "2": "100,8000"
                                },
                                {
                                    "0": "14",
                                    "1": "12886,3000",
                                    "2": "1610,7875"
                                },
                                {
                                    "0": "15",
                                    "1": "3810,7500",
                                    "2": "762,1500"
                                },
                                {
                                    "0": "16",
                                    "1": "1719,1000",
                                    "2": "573,0333"
                                },
                                {
                                    "0": "17",
                                    "1": "3763,2100",
                                    "2": "627,2016"
                                },
                                {
                                    "0": "18",
                                    "1": "1615,9000",
                                    "2": "403,9750"
                                },
                                {
                                    "0": "19",
                                    "1": "15033,6600",
                                    "2": "1879,2075"
                                },
                                {
                                    "0": "20",
                                    "1": "113236,6800",
                                    "2": "3774,5560"
                                },
                                {
                                    "0": "21",
                                    "1": "4438,9000",
                                    "2": "634,1285"
                                },
                                {
                                    "0": "23",
                                    "1": "11666,9000",
                                    "2": "2333,3800"
                                },
                                {
                                    "0": "24",
                                    "1": "32555,5500",
                                    "2": "1713,4500"
                                },
                                {
                                    "0": "25",
                                    "1": "28722,7100",
                                    "2": "1914,8473"
                                },
                                {
                                    "0": "26",
                                    "1": "3172,1600",
                                    "2": "1057,3866"
                                },
                                {
                                    "0": "27",
                                    "1": "1545,7000",
                                    "2": "257,6166"
                                },
                                {
                                    "0": "28",
                                    "1": "7151,5500",
                                    "2": "893,9437"
                                },
                                {
                                    "0": "29",
                                    "1": "836,7000",
                                    "2": "167,3400"
                                },
                                {
                                    "0": "30",
                                    "1": "11830,1000",
                                    "2": "1183,0100"
                                },
                                {
                                    "0": "31",
                                    "1": "8702,2300",
                                    "2": "966,9144"
                                },
                                {
                                    "0": "32",
                                    "1": "19711,1300",
                                    "2": "1791,9209"
                                },
                                {
                                    "0": "33",
                                    "1": "1488,7000",
                                    "2": "744,3500"
                                },
                                {
                                    "0": "34",
                                    "1": "34101,1500",
                                    "2": "2435,7964"
                                },
                                {
                                    "0": "35",
                                    "1": "23611,5800",
                                    "2": "1311,7544"
                                },
                                {
                                    "0": "36",
                                    "1": "3063,2000",
                                    "2": "612,6400"
                                },
                                {
                                    "0": "37",
                                    "1": "57317,3900",
                                    "2": "3016,7047"
                                },
                                {
                                    "0": "38",
                                    "1": "6146,3000",
                                    "2": "614,6300"
                                },
                                {
                                    "0": "39",
                                    "1": "31745,7500",
                                    "2": "2267,5535"
                                },
                                {
                                    "0": "40",
                                    "1": "1992,0500",
                                    "2": "498,0125"
                                },
                                {
                                    "0": "41",
                                    "1": "10272,3500",
                                    "2": "733,7392"
                                },
                                {
                                    "0": "42",
                                    "1": "522,5000",
                                    "2": "174,1666"
                                },
                                {
                                    "0": "43",
                                    "1": "357,0000",
                                    "2": "178,5000"
                                },
                                {
                                    "0": "44",
                                    "1": "21282,0200",
                                    "2": "1418,8013"
                                },
                                {
                                    "0": "45",
                                    "1": "3490,0200",
                                    "2": "872,5050"
                                },
                                {
                                    "0": "46",
                                    "1": "17825,0600",
                                    "2": "1273,2185"
                                },
                                {
                                    "0": "47",
                                    "1": "17889,5500",
                                    "2": "1490,7958"
                                },
                                {
                                    "0": "48",
                                    "1": "4258,6000",
                                    "2": "532,3250"
                                },
                                {
                                    "0": "49",
                                    "1": "7603,8500",
                                    "2": "760,3850"
                                },
                                {
                                    "0": "50",
                                    "1": "10430,5800",
                                    "2": "1490,0828"
                                },
                                {
                                    "0": "51",
                                    "1": "32203,9000",
                                    "2": "2477,2230"
                                },
                                {
                                    "0": "52",
                                    "1": "5042,2000",
                                    "2": "1008,4400"
                                },
                                {
                                    "0": "53",
                                    "1": "649,0000",
                                    "2": "216,3333"
                                },
                                {
                                    "0": "54",
                                    "1": "3460,2000",
                                    "2": "692,0400"
                                },
                                {
                                    "0": "55",
                                    "1": "16325,1500",
                                    "2": "1632,5150"
                                },
                                {
                                    "0": "56",
                                    "1": "13157,5000",
                                    "2": "1315,7500"
                                },
                                {
                                    "0": "58",
                                    "1": "4242,2000",
                                    "2": "707,0333"
                                },
                                {
                                    "0": "59",
                                    "1": "26259,9500",
                                    "2": "2625,9950"
                                },
                                {
                                    "0": "60",
                                    "1": "5317,1000",
                                    "2": "1063,4200"
                                },
                                {
                                    "0": "61",
                                    "1": "6973,6300",
                                    "2": "774,8477"
                                },
                                {
                                    "0": "62",
                                    "1": "30226,1000",
                                    "2": "2325,0846"
                                },
                                {
                                    "0": "63",
                                    "1": "117483,3900",
                                    "2": "4195,8353"
                                },
                                {
                                    "0": "64",
                                    "1": "2844,1000",
                                    "2": "568,8200"
                                },
                                {
                                    "0": "65",
                                    "1": "52245,9000",
                                    "2": "2902,5500"
                                },
                                {
                                    "0": "66",
                                    "1": "7555,6000",
                                    "2": "629,6333"
                                },
                                {
                                    "0": "67",
                                    "1": "12924,4000",
                                    "2": "1174,9454"
                                },
                                {
                                    "0": "68",
                                    "1": "20033,2000",
                                    "2": "2003,3200"
                                },
                                {
                                    "0": "69",
                                    "1": "1467,2900",
                                    "2": "293,4580"
                                },
                                {
                                    "0": "70",
                                    "1": "5735,1500",
                                    "2": "955,8583"
                                },
                                {
                                    "0": "71",
                                    "1": "115673,3900",
                                    "2": "3731,3996"
                                },
                                {
                                    "0": "72",
                                    "1": "17172,0500",
                                    "2": "1908,0055"
                                },
                                {
                                    "0": "73",
                                    "1": "18138,4500",
                                    "2": "2591,2071"
                                },
                                {
                                    "0": "74",
                                    "1": "2423,3500",
                                    "2": "605,8375"
                                },
                                {
                                    "0": "75",
                                    "1": "12489,7000",
                                    "2": "1387,7444"
                                },
                                {
                                    "0": "76",
                                    "1": "24704,4000",
                                    "2": "2058,7000"
                                },
                                {
                                    "0": "77",
                                    "1": "3361,0000",
                                    "2": "840,2500"
                                },
                                {
                                    "0": "78",
                                    "1": "1947,2400",
                                    "2": "649,0800"
                                },
                                {
                                    "0": "79",
                                    "1": "4954,0000",
                                    "2": "825,6666"
                                },
                                {
                                    "0": "80",
                                    "1": "10812,1500",
                                    "2": "1081,2150"
                                },
                                {
                                    "0": "81",
                                    "1": "7310,6200",
                                    "2": "1218,4366"
                                },
                                {
                                    "0": "82",
                                    "1": "1571,2000",
                                    "2": "523,7333"
                                },
                                {
                                    "0": "83",
                                    "1": "16643,8000",
                                    "2": "1513,0727"
                                },
                                {
                                    "0": "84",
                                    "1": "9937,1000",
                                    "2": "993,7100"
                                },
                                {
                                    "0": "85",
                                    "1": "1480,0000",
                                    "2": "296,0000"
                                },
                                {
                                    "0": "86",
                                    "1": "10653,8500",
                                    "2": "1065,3850"
                                },
                                {
                                    "0": "87",
                                    "1": "16617,1000",
                                    "2": "1107,8066"
                                },
                                {
                                    "0": "88",
                                    "1": "6480,7000",
                                    "2": "720,0777"
                                },
                                {
                                    "0": "89",
                                    "1": "29073,4500",
                                    "2": "2076,6750"
                                },
                                {
                                    "0": "90",
                                    "1": "3161,3500",
                                    "2": "451,6214"
                                },
                                {
                                    "0": "91",
                                    "1": "3531,9500",
                                    "2": "504,5642"
                                }
                            ]
                        },
                        "text/html": "<table><tr><th>custid</th><th>totalsalesmount</th><th>avgsalesmount</th></tr><tr><td>1</td><td>4596,2000</td><td>766,0333</td></tr><tr><td>2</td><td>1402,9500</td><td>350,7375</td></tr><tr><td>3</td><td>7515,3500</td><td>1073,6214</td></tr><tr><td>4</td><td>13806,5000</td><td>1062,0384</td></tr><tr><td>5</td><td>26968,1500</td><td>1498,2305</td></tr><tr><td>6</td><td>3239,8000</td><td>462,8285</td></tr><tr><td>7</td><td>19088,0000</td><td>1735,2727</td></tr><tr><td>8</td><td>5297,8000</td><td>1765,9333</td></tr><tr><td>9</td><td>23850,9500</td><td>1402,9970</td></tr><tr><td>10</td><td>22607,7000</td><td>1614,8357</td></tr><tr><td>11</td><td>6089,9000</td><td>608,9900</td></tr><tr><td>12</td><td>1814,8000</td><td>302,4666</td></tr><tr><td>13</td><td>100,8000</td><td>100,8000</td></tr><tr><td>14</td><td>12886,3000</td><td>1610,7875</td></tr><tr><td>15</td><td>3810,7500</td><td>762,1500</td></tr><tr><td>16</td><td>1719,1000</td><td>573,0333</td></tr><tr><td>17</td><td>3763,2100</td><td>627,2016</td></tr><tr><td>18</td><td>1615,9000</td><td>403,9750</td></tr><tr><td>19</td><td>15033,6600</td><td>1879,2075</td></tr><tr><td>20</td><td>113236,6800</td><td>3774,5560</td></tr><tr><td>21</td><td>4438,9000</td><td>634,1285</td></tr><tr><td>23</td><td>11666,9000</td><td>2333,3800</td></tr><tr><td>24</td><td>32555,5500</td><td>1713,4500</td></tr><tr><td>25</td><td>28722,7100</td><td>1914,8473</td></tr><tr><td>26</td><td>3172,1600</td><td>1057,3866</td></tr><tr><td>27</td><td>1545,7000</td><td>257,6166</td></tr><tr><td>28</td><td>7151,5500</td><td>893,9437</td></tr><tr><td>29</td><td>836,7000</td><td>167,3400</td></tr><tr><td>30</td><td>11830,1000</td><td>1183,0100</td></tr><tr><td>31</td><td>8702,2300</td><td>966,9144</td></tr><tr><td>32</td><td>19711,1300</td><td>1791,9209</td></tr><tr><td>33</td><td>1488,7000</td><td>744,3500</td></tr><tr><td>34</td><td>34101,1500</td><td>2435,7964</td></tr><tr><td>35</td><td>23611,5800</td><td>1311,7544</td></tr><tr><td>36</td><td>3063,2000</td><td>612,6400</td></tr><tr><td>37</td><td>57317,3900</td><td>3016,7047</td></tr><tr><td>38</td><td>6146,3000</td><td>614,6300</td></tr><tr><td>39</td><td>31745,7500</td><td>2267,5535</td></tr><tr><td>40</td><td>1992,0500</td><td>498,0125</td></tr><tr><td>41</td><td>10272,3500</td><td>733,7392</td></tr><tr><td>42</td><td>522,5000</td><td>174,1666</td></tr><tr><td>43</td><td>357,0000</td><td>178,5000</td></tr><tr><td>44</td><td>21282,0200</td><td>1418,8013</td></tr><tr><td>45</td><td>3490,0200</td><td>872,5050</td></tr><tr><td>46</td><td>17825,0600</td><td>1273,2185</td></tr><tr><td>47</td><td>17889,5500</td><td>1490,7958</td></tr><tr><td>48</td><td>4258,6000</td><td>532,3250</td></tr><tr><td>49</td><td>7603,8500</td><td>760,3850</td></tr><tr><td>50</td><td>10430,5800</td><td>1490,0828</td></tr><tr><td>51</td><td>32203,9000</td><td>2477,2230</td></tr><tr><td>52</td><td>5042,2000</td><td>1008,4400</td></tr><tr><td>53</td><td>649,0000</td><td>216,3333</td></tr><tr><td>54</td><td>3460,2000</td><td>692,0400</td></tr><tr><td>55</td><td>16325,1500</td><td>1632,5150</td></tr><tr><td>56</td><td>13157,5000</td><td>1315,7500</td></tr><tr><td>58</td><td>4242,2000</td><td>707,0333</td></tr><tr><td>59</td><td>26259,9500</td><td>2625,9950</td></tr><tr><td>60</td><td>5317,1000</td><td>1063,4200</td></tr><tr><td>61</td><td>6973,6300</td><td>774,8477</td></tr><tr><td>62</td><td>30226,1000</td><td>2325,0846</td></tr><tr><td>63</td><td>117483,3900</td><td>4195,8353</td></tr><tr><td>64</td><td>2844,1000</td><td>568,8200</td></tr><tr><td>65</td><td>52245,9000</td><td>2902,5500</td></tr><tr><td>66</td><td>7555,6000</td><td>629,6333</td></tr><tr><td>67</td><td>12924,4000</td><td>1174,9454</td></tr><tr><td>68</td><td>20033,2000</td><td>2003,3200</td></tr><tr><td>69</td><td>1467,2900</td><td>293,4580</td></tr><tr><td>70</td><td>5735,1500</td><td>955,8583</td></tr><tr><td>71</td><td>115673,3900</td><td>3731,3996</td></tr><tr><td>72</td><td>17172,0500</td><td>1908,0055</td></tr><tr><td>73</td><td>18138,4500</td><td>2591,2071</td></tr><tr><td>74</td><td>2423,3500</td><td>605,8375</td></tr><tr><td>75</td><td>12489,7000</td><td>1387,7444</td></tr><tr><td>76</td><td>24704,4000</td><td>2058,7000</td></tr><tr><td>77</td><td>3361,0000</td><td>840,2500</td></tr><tr><td>78</td><td>1947,2400</td><td>649,0800</td></tr><tr><td>79</td><td>4954,0000</td><td>825,6666</td></tr><tr><td>80</td><td>10812,1500</td><td>1081,2150</td></tr><tr><td>81</td><td>7310,6200</td><td>1218,4366</td></tr><tr><td>82</td><td>1571,2000</td><td>523,7333</td></tr><tr><td>83</td><td>16643,8000</td><td>1513,0727</td></tr><tr><td>84</td><td>9937,1000</td><td>993,7100</td></tr><tr><td>85</td><td>1480,0000</td><td>296,0000</td></tr><tr><td>86</td><td>10653,8500</td><td>1065,3850</td></tr><tr><td>87</td><td>16617,1000</td><td>1107,8066</td></tr><tr><td>88</td><td>6480,7000</td><td>720,0777</td></tr><tr><td>89</td><td>29073,4500</td><td>2076,6750</td></tr><tr><td>90</td><td>3161,3500</td><td>451,6214</td></tr><tr><td>91</td><td>3531,9500</td><td>504,5642</td></tr></table>"
                    },
                    "metadata": {}
                }
            ],
            "execution_count": 6
        },
        {
            "cell_type": "markdown",
            "source": "3. Utilizando Expresions Comunes de Tabla",
            "metadata": {}
        },
        {
            "cell_type": "markdown",
            "source": "3.1. Write a SELECT statement like the one in exercise 2.1, but use a CTE instead of a derived table.\r\nUse inline column aliasing in the CTE query and name the CTE ProductBeverages.",
            "metadata": {}
        },
        {
            "cell_type": "code",
            "source": "WITH ProductsBeverages AS\r\n(\r\n    select \r\n        productid,productname,supplierid,unitprice,discontinued,\r\n        case WHEN unitprice > 100. THEN N'high' ELSE N'normal' END AS pricetype\r\n    FROM Production.Products\r\n    WHERE categoryid=1\r\n)\r\nselect productid,productname\r\nFROM ProductsBeverages\r\nWHERE pricetype=N'high'",
            "metadata": {},
            "outputs": [
                {
                    "output_type": "display_data",
                    "data": {
                        "text/html": "(1 row affected)"
                    },
                    "metadata": {}
                },
                {
                    "output_type": "display_data",
                    "data": {
                        "text/html": "Total execution time: 00:00:00.004"
                    },
                    "metadata": {}
                },
                {
                    "output_type": "execute_result",
                    "execution_count": 7,
                    "data": {
                        "application/vnd.dataresource+json": {
                            "schema": {
                                "fields": [
                                    {
                                        "name": "productid"
                                    },
                                    {
                                        "name": "productname"
                                    }
                                ]
                            },
                            "data": [
                                {
                                    "0": "38",
                                    "1": "Product QDOMO"
                                }
                            ]
                        },
                        "text/html": "<table><tr><th>productid</th><th>productname</th></tr><tr><td>38</td><td>Product QDOMO</td></tr></table>"
                    },
                    "metadata": {}
                }
            ],
            "execution_count": 7
        },
        {
            "cell_type": "markdown",
            "source": "3.2. Write a SELECT statement against Sales.OrderValues to retrieve each customer’s ID and total sales\r\namount for the year 2008. Define a CTE named c2008 based on this query, using the external aliasing\r\nform to name the CTE columns custid and salesamt2008. Join the Sales.Customers table and the\r\nc2008 CTE, returning the custid and contactname columns from the Sales.Customers table and the\r\nsalesamt2008 column from the c2008 CTE.",
            "metadata": {}
        },
        {
            "cell_type": "code",
            "source": "WITH c2008 (custid,salesamt2008) as\r\n(\r\n    SELECT  \r\n        custid,sum(val)\r\n        FROM Sales.OrderValues\r\n        WHERE YEAR(orderdate)=2008\r\n        GROUP by custid\r\n)\r\nselect \r\n    c.custid,c.contactname,c2008.salesamt2008\r\nFROM Sales.Customers AS c\r\nLEFT OUTER JOIN c2008 ON c.custid=c2008.custid;\r\n",
            "metadata": {},
            "outputs": [
                {
                    "output_type": "display_data",
                    "data": {
                        "text/html": "(91 rows affected)"
                    },
                    "metadata": {}
                },
                {
                    "output_type": "display_data",
                    "data": {
                        "text/html": "Total execution time: 00:00:00.021"
                    },
                    "metadata": {}
                },
                {
                    "output_type": "execute_result",
                    "execution_count": 8,
                    "data": {
                        "application/vnd.dataresource+json": {
                            "schema": {
                                "fields": [
                                    {
                                        "name": "custid"
                                    },
                                    {
                                        "name": "contactname"
                                    },
                                    {
                                        "name": "salesamt2008"
                                    }
                                ]
                            },
                            "data": [
                                {
                                    "0": "1",
                                    "1": "Allen, Michael",
                                    "2": "2250,50"
                                },
                                {
                                    "0": "2",
                                    "1": "Hassall, Mark",
                                    "2": "514,40"
                                },
                                {
                                    "0": "3",
                                    "1": "Peoples, John",
                                    "2": "660,00"
                                },
                                {
                                    "0": "4",
                                    "1": "Arndt, Torsten",
                                    "2": "5604,75"
                                },
                                {
                                    "0": "5",
                                    "1": "Higginbotham, Tom",
                                    "2": "6754,16"
                                },
                                {
                                    "0": "6",
                                    "1": "Poland, Carole",
                                    "2": "2160,00"
                                },
                                {
                                    "0": "7",
                                    "1": "Bansal, Dushyant",
                                    "2": "730,00"
                                },
                                {
                                    "0": "8",
                                    "1": "Ilyina, Julia",
                                    "2": "224,00"
                                },
                                {
                                    "0": "9",
                                    "1": "Raghav, Amritansh",
                                    "2": "6680,61"
                                },
                                {
                                    "0": "10",
                                    "1": "Bassols, Pilar Colome",
                                    "2": "11338,56"
                                },
                                {
                                    "0": "11",
                                    "1": "Jaffe, David",
                                    "2": "2431,00"
                                },
                                {
                                    "0": "12",
                                    "1": "Ray, Mike",
                                    "2": "1576,80"
                                },
                                {
                                    "0": "13",
                                    "1": "Benito, Almudena",
                                    "2": "NULL"
                                },
                                {
                                    "0": "14",
                                    "1": "Jelitto, Jacek",
                                    "2": "4158,26"
                                },
                                {
                                    "0": "15",
                                    "1": "Richardson, Shawn",
                                    "2": "513,75"
                                },
                                {
                                    "0": "16",
                                    "1": "Birkby, Dana",
                                    "2": "931,50"
                                },
                                {
                                    "0": "17",
                                    "1": "Jones, TiAnna",
                                    "2": "2809,61"
                                },
                                {
                                    "0": "18",
                                    "1": "Rizaldy, Arif",
                                    "2": "860,10"
                                },
                                {
                                    "0": "19",
                                    "1": "Boseman, Randall",
                                    "2": "9296,69"
                                },
                                {
                                    "0": "20",
                                    "1": "Kane, John",
                                    "2": "41210,65"
                                },
                                {
                                    "0": "21",
                                    "1": "Russo, Giuseppe",
                                    "2": "NULL"
                                },
                                {
                                    "0": "22",
                                    "1": "Bueno, Janaina Burdan, Neville",
                                    "2": "NULL"
                                },
                                {
                                    "0": "23",
                                    "1": "Khanna, Karan",
                                    "2": "NULL"
                                },
                                {
                                    "0": "24",
                                    "1": "San Juan, Patricia",
                                    "2": "13644,07"
                                },
                                {
                                    "0": "25",
                                    "1": "Carlson, Jason",
                                    "2": "5078,74"
                                },
                                {
                                    "0": "26",
                                    "1": "Koch, Paul",
                                    "2": "2252,06"
                                },
                                {
                                    "0": "27",
                                    "1": "Schmöllerl, Martin",
                                    "2": "1296,00"
                                },
                                {
                                    "0": "28",
                                    "1": "Cavaglieri, Giorgio",
                                    "2": "57,80"
                                },
                                {
                                    "0": "29",
                                    "1": "Kolesnikova, Katerina",
                                    "2": "207,50"
                                },
                                {
                                    "0": "30",
                                    "1": "Shabalin, Rostislav",
                                    "2": "6870,21"
                                },
                                {
                                    "0": "31",
                                    "1": "Cheng, Yao-Qiang",
                                    "2": "405,35"
                                },
                                {
                                    "0": "32",
                                    "1": "Krishnan, Venky",
                                    "2": "9942,14"
                                },
                                {
                                    "0": "33",
                                    "1": "Sigurdarson, Hallur ",
                                    "2": "NULL"
                                },
                                {
                                    "0": "34",
                                    "1": "Cohen, Shy",
                                    "2": "23821,20"
                                },
                                {
                                    "0": "35",
                                    "1": "Langohr, Kris",
                                    "2": "6043,20"
                                },
                                {
                                    "0": "36",
                                    "1": "Smith, Denise",
                                    "2": "NULL"
                                },
                                {
                                    "0": "37",
                                    "1": "Crăciun, Ovidiu V.",
                                    "2": "20402,12"
                                },
                                {
                                    "0": "38",
                                    "1": "Lee, Frank",
                                    "2": "2684,60"
                                },
                                {
                                    "0": "39",
                                    "1": "Song, Lolan",
                                    "2": "19582,78"
                                },
                                {
                                    "0": "40",
                                    "1": "De Oliveira, Jose",
                                    "2": "1992,05"
                                },
                                {
                                    "0": "41",
                                    "1": "Litton, Tim",
                                    "2": "1259,91"
                                },
                                {
                                    "0": "42",
                                    "1": "Steiner, Dominik",
                                    "2": "187,00"
                                },
                                {
                                    "0": "43",
                                    "1": "Deshpande, Anu",
                                    "2": "NULL"
                                },
                                {
                                    "0": "44",
                                    "1": "Louverdis, George",
                                    "2": "3079,91"
                                },
                                {
                                    "0": "45",
                                    "1": "Sunkammurali,  Krishna",
                                    "2": "1378,07"
                                },
                                {
                                    "0": "46",
                                    "1": "Dressler, Marlies",
                                    "2": "5507,32"
                                },
                                {
                                    "0": "47",
                                    "1": "Lupu, Cornel",
                                    "2": "9117,10"
                                },
                                {
                                    "0": "48",
                                    "1": "Szymczak, Radosław",
                                    "2": "1709,40"
                                },
                                {
                                    "0": "49",
                                    "1": "Duerr, Bernard",
                                    "2": "1580,50"
                                },
                                {
                                    "0": "50",
                                    "1": "Mace, Donald",
                                    "2": "4439,08"
                                },
                                {
                                    "0": "51",
                                    "1": "Taylor, Maurice",
                                    "2": "NULL"
                                },
                                {
                                    "0": "52",
                                    "1": "Dupont-Roc, Patrice",
                                    "2": "245,00"
                                },
                                {
                                    "0": "53",
                                    "1": "Mallit, Ken",
                                    "2": "45,00"
                                },
                                {
                                    "0": "54",
                                    "1": "Tiano, Mike",
                                    "2": "3031,00"
                                },
                                {
                                    "0": "55",
                                    "1": "Egelund-Muller, Anja",
                                    "2": "5026,29"
                                },
                                {
                                    "0": "56",
                                    "1": "Marinova, Nadejda",
                                    "2": "2737,28"
                                },
                                {
                                    "0": "57",
                                    "1": "Tollevsen, Bjørn",
                                    "2": "NULL"
                                },
                                {
                                    "0": "58",
                                    "1": "Fakhouri, Fadi",
                                    "2": "1496,00"
                                },
                                {
                                    "0": "59",
                                    "1": "Meston, Tosh",
                                    "2": "3790,00"
                                },
                                {
                                    "0": "60",
                                    "1": "Uppal, Sunil",
                                    "2": "2633,90"
                                },
                                {
                                    "0": "61",
                                    "1": "Florczyk, Krzysztof",
                                    "2": "1353,60"
                                },
                                {
                                    "0": "62",
                                    "1": "Misiec, Anna",
                                    "2": "6373,83"
                                },
                                {
                                    "0": "63",
                                    "1": "Veronesi, Giorgio",
                                    "2": "37217,32"
                                },
                                {
                                    "0": "64",
                                    "1": "Gaffney, Lawrie",
                                    "2": "1694,70"
                                },
                                {
                                    "0": "65",
                                    "1": "Moore, Michael",
                                    "2": "21238,27"
                                },
                                {
                                    "0": "66",
                                    "1": "Voss, Florian",
                                    "2": "3967,30"
                                },
                                {
                                    "0": "67",
                                    "1": "Garden, Euan",
                                    "2": "6998,53"
                                },
                                {
                                    "0": "68",
                                    "1": "Myrcha, Jacek",
                                    "2": "4988,86"
                                },
                                {
                                    "0": "69",
                                    "1": "Watters, Jason M.",
                                    "2": "726,89"
                                },
                                {
                                    "0": "70",
                                    "1": "Ginters, Kaspars",
                                    "2": "3976,75"
                                },
                                {
                                    "0": "71",
                                    "1": "Navarro, Tomás",
                                    "2": "36310,11"
                                },
                                {
                                    "0": "72",
                                    "1": "Welcker, Brian",
                                    "2": "1630,00"
                                },
                                {
                                    "0": "73",
                                    "1": "Gonzalez, Nuria",
                                    "2": "232,09"
                                },
                                {
                                    "0": "74",
                                    "1": "O’Brien, Dave",
                                    "2": "2371,00"
                                },
                                {
                                    "0": "75",
                                    "1": "Wojciechowska, Agnieszka",
                                    "2": "1117,00"
                                },
                                {
                                    "0": "76",
                                    "1": "Gulbis, Katrin",
                                    "2": "11644,60"
                                },
                                {
                                    "0": "77",
                                    "1": "Osorio, Cristian",
                                    "2": "69,60"
                                },
                                {
                                    "0": "78",
                                    "1": "Young, Robin",
                                    "2": "326,00"
                                },
                                {
                                    "0": "79",
                                    "1": "Wickham, Jim",
                                    "2": "910,40"
                                },
                                {
                                    "0": "80",
                                    "1": "Geschwandtner, Jens",
                                    "2": "1874,50"
                                },
                                {
                                    "0": "81",
                                    "1": "Nagel, Jean-Philippe",
                                    "2": "4234,26"
                                },
                                {
                                    "0": "82",
                                    "1": "Veninga, Tjeerd",
                                    "2": "237,90"
                                },
                                {
                                    "0": "83",
                                    "1": "Fonteneau, Karl",
                                    "2": "4284,00"
                                },
                                {
                                    "0": "84",
                                    "1": "Tuntisangaroon, Sittichai",
                                    "2": "2576,45"
                                },
                                {
                                    "0": "85",
                                    "1": "McLin, Nkenge",
                                    "2": "NULL"
                                },
                                {
                                    "0": "86",
                                    "1": "Syamala, Manoj",
                                    "2": "1485,80"
                                },
                                {
                                    "0": "87",
                                    "1": "Ludwig, Michael",
                                    "2": "270,00"
                                },
                                {
                                    "0": "88",
                                    "1": "Li, Yan",
                                    "2": "1135,25"
                                },
                                {
                                    "0": "89",
                                    "1": "Smith Jr., Ronaldo",
                                    "2": "15278,90"
                                },
                                {
                                    "0": "90",
                                    "1": "Larsson, Katarina",
                                    "2": "1987,00"
                                },
                                {
                                    "0": "91",
                                    "1": "Conn, Steve",
                                    "2": "1865,10"
                                }
                            ]
                        },
                        "text/html": "<table><tr><th>custid</th><th>contactname</th><th>salesamt2008</th></tr><tr><td>1</td><td>Allen, Michael</td><td>2250,50</td></tr><tr><td>2</td><td>Hassall, Mark</td><td>514,40</td></tr><tr><td>3</td><td>Peoples, John</td><td>660,00</td></tr><tr><td>4</td><td>Arndt, Torsten</td><td>5604,75</td></tr><tr><td>5</td><td>Higginbotham, Tom</td><td>6754,16</td></tr><tr><td>6</td><td>Poland, Carole</td><td>2160,00</td></tr><tr><td>7</td><td>Bansal, Dushyant</td><td>730,00</td></tr><tr><td>8</td><td>Ilyina, Julia</td><td>224,00</td></tr><tr><td>9</td><td>Raghav, Amritansh</td><td>6680,61</td></tr><tr><td>10</td><td>Bassols, Pilar Colome</td><td>11338,56</td></tr><tr><td>11</td><td>Jaffe, David</td><td>2431,00</td></tr><tr><td>12</td><td>Ray, Mike</td><td>1576,80</td></tr><tr><td>13</td><td>Benito, Almudena</td><td>NULL</td></tr><tr><td>14</td><td>Jelitto, Jacek</td><td>4158,26</td></tr><tr><td>15</td><td>Richardson, Shawn</td><td>513,75</td></tr><tr><td>16</td><td>Birkby, Dana</td><td>931,50</td></tr><tr><td>17</td><td>Jones, TiAnna</td><td>2809,61</td></tr><tr><td>18</td><td>Rizaldy, Arif</td><td>860,10</td></tr><tr><td>19</td><td>Boseman, Randall</td><td>9296,69</td></tr><tr><td>20</td><td>Kane, John</td><td>41210,65</td></tr><tr><td>21</td><td>Russo, Giuseppe</td><td>NULL</td></tr><tr><td>22</td><td>Bueno, Janaina Burdan, Neville</td><td>NULL</td></tr><tr><td>23</td><td>Khanna, Karan</td><td>NULL</td></tr><tr><td>24</td><td>San Juan, Patricia</td><td>13644,07</td></tr><tr><td>25</td><td>Carlson, Jason</td><td>5078,74</td></tr><tr><td>26</td><td>Koch, Paul</td><td>2252,06</td></tr><tr><td>27</td><td>Schmöllerl, Martin</td><td>1296,00</td></tr><tr><td>28</td><td>Cavaglieri, Giorgio</td><td>57,80</td></tr><tr><td>29</td><td>Kolesnikova, Katerina</td><td>207,50</td></tr><tr><td>30</td><td>Shabalin, Rostislav</td><td>6870,21</td></tr><tr><td>31</td><td>Cheng, Yao-Qiang</td><td>405,35</td></tr><tr><td>32</td><td>Krishnan, Venky</td><td>9942,14</td></tr><tr><td>33</td><td>Sigurdarson, Hallur </td><td>NULL</td></tr><tr><td>34</td><td>Cohen, Shy</td><td>23821,20</td></tr><tr><td>35</td><td>Langohr, Kris</td><td>6043,20</td></tr><tr><td>36</td><td>Smith, Denise</td><td>NULL</td></tr><tr><td>37</td><td>Crăciun, Ovidiu V.</td><td>20402,12</td></tr><tr><td>38</td><td>Lee, Frank</td><td>2684,60</td></tr><tr><td>39</td><td>Song, Lolan</td><td>19582,78</td></tr><tr><td>40</td><td>De Oliveira, Jose</td><td>1992,05</td></tr><tr><td>41</td><td>Litton, Tim</td><td>1259,91</td></tr><tr><td>42</td><td>Steiner, Dominik</td><td>187,00</td></tr><tr><td>43</td><td>Deshpande, Anu</td><td>NULL</td></tr><tr><td>44</td><td>Louverdis, George</td><td>3079,91</td></tr><tr><td>45</td><td>Sunkammurali,  Krishna</td><td>1378,07</td></tr><tr><td>46</td><td>Dressler, Marlies</td><td>5507,32</td></tr><tr><td>47</td><td>Lupu, Cornel</td><td>9117,10</td></tr><tr><td>48</td><td>Szymczak, Radosław</td><td>1709,40</td></tr><tr><td>49</td><td>Duerr, Bernard</td><td>1580,50</td></tr><tr><td>50</td><td>Mace, Donald</td><td>4439,08</td></tr><tr><td>51</td><td>Taylor, Maurice</td><td>NULL</td></tr><tr><td>52</td><td>Dupont-Roc, Patrice</td><td>245,00</td></tr><tr><td>53</td><td>Mallit, Ken</td><td>45,00</td></tr><tr><td>54</td><td>Tiano, Mike</td><td>3031,00</td></tr><tr><td>55</td><td>Egelund-Muller, Anja</td><td>5026,29</td></tr><tr><td>56</td><td>Marinova, Nadejda</td><td>2737,28</td></tr><tr><td>57</td><td>Tollevsen, Bjørn</td><td>NULL</td></tr><tr><td>58</td><td>Fakhouri, Fadi</td><td>1496,00</td></tr><tr><td>59</td><td>Meston, Tosh</td><td>3790,00</td></tr><tr><td>60</td><td>Uppal, Sunil</td><td>2633,90</td></tr><tr><td>61</td><td>Florczyk, Krzysztof</td><td>1353,60</td></tr><tr><td>62</td><td>Misiec, Anna</td><td>6373,83</td></tr><tr><td>63</td><td>Veronesi, Giorgio</td><td>37217,32</td></tr><tr><td>64</td><td>Gaffney, Lawrie</td><td>1694,70</td></tr><tr><td>65</td><td>Moore, Michael</td><td>21238,27</td></tr><tr><td>66</td><td>Voss, Florian</td><td>3967,30</td></tr><tr><td>67</td><td>Garden, Euan</td><td>6998,53</td></tr><tr><td>68</td><td>Myrcha, Jacek</td><td>4988,86</td></tr><tr><td>69</td><td>Watters, Jason M.</td><td>726,89</td></tr><tr><td>70</td><td>Ginters, Kaspars</td><td>3976,75</td></tr><tr><td>71</td><td>Navarro, Tomás</td><td>36310,11</td></tr><tr><td>72</td><td>Welcker, Brian</td><td>1630,00</td></tr><tr><td>73</td><td>Gonzalez, Nuria</td><td>232,09</td></tr><tr><td>74</td><td>O’Brien, Dave</td><td>2371,00</td></tr><tr><td>75</td><td>Wojciechowska, Agnieszka</td><td>1117,00</td></tr><tr><td>76</td><td>Gulbis, Katrin</td><td>11644,60</td></tr><tr><td>77</td><td>Osorio, Cristian</td><td>69,60</td></tr><tr><td>78</td><td>Young, Robin</td><td>326,00</td></tr><tr><td>79</td><td>Wickham, Jim</td><td>910,40</td></tr><tr><td>80</td><td>Geschwandtner, Jens</td><td>1874,50</td></tr><tr><td>81</td><td>Nagel, Jean-Philippe</td><td>4234,26</td></tr><tr><td>82</td><td>Veninga, Tjeerd</td><td>237,90</td></tr><tr><td>83</td><td>Fonteneau, Karl</td><td>4284,00</td></tr><tr><td>84</td><td>Tuntisangaroon, Sittichai</td><td>2576,45</td></tr><tr><td>85</td><td>McLin, Nkenge</td><td>NULL</td></tr><tr><td>86</td><td>Syamala, Manoj</td><td>1485,80</td></tr><tr><td>87</td><td>Ludwig, Michael</td><td>270,00</td></tr><tr><td>88</td><td>Li, Yan</td><td>1135,25</td></tr><tr><td>89</td><td>Smith Jr., Ronaldo</td><td>15278,90</td></tr><tr><td>90</td><td>Larsson, Katarina</td><td>1987,00</td></tr><tr><td>91</td><td>Conn, Steve</td><td>1865,10</td></tr></table>"
                    },
                    "metadata": {}
                }
            ],
            "execution_count": 8
        },
        {
            "cell_type": "markdown",
            "source": "4. Utilizando Funciones de Tabla en línea",
            "metadata": {}
        },
        {
            "cell_type": "markdown",
            "source": "4.1. Write a SELECT statement against the Sales.OrderValues view and retrieve the custid and\r\ntotalsalesamount columns as a total of the val column. Filter the results to include orders only for the\r\nyear 2007.",
            "metadata": {}
        },
        {
            "cell_type": "code",
            "source": "select \r\n    custid,SUM(val) as totalsalesmount\r\nFROM Sales.OrderValues\r\nwhere year(orderdate)=2007\r\ngroup by custid;\r\ngo",
            "metadata": {},
            "outputs": [
                {
                    "output_type": "display_data",
                    "data": {
                        "text/html": "(86 rows affected)"
                    },
                    "metadata": {}
                },
                {
                    "output_type": "display_data",
                    "data": {
                        "text/html": "Total execution time: 00:00:00.010"
                    },
                    "metadata": {}
                },
                {
                    "output_type": "execute_result",
                    "execution_count": 9,
                    "data": {
                        "application/vnd.dataresource+json": {
                            "schema": {
                                "fields": [
                                    {
                                        "name": "custid"
                                    },
                                    {
                                        "name": "totalsalesmount"
                                    }
                                ]
                            },
                            "data": [
                                {
                                    "0": "1",
                                    "1": "2022,50"
                                },
                                {
                                    "0": "2",
                                    "1": "799,75"
                                },
                                {
                                    "0": "3",
                                    "1": "5960,78"
                                },
                                {
                                    "0": "4",
                                    "1": "6406,90"
                                },
                                {
                                    "0": "5",
                                    "1": "13849,02"
                                },
                                {
                                    "0": "6",
                                    "1": "1079,80"
                                },
                                {
                                    "0": "7",
                                    "1": "7817,88"
                                },
                                {
                                    "0": "8",
                                    "1": "3026,85"
                                },
                                {
                                    "0": "9",
                                    "1": "11208,36"
                                },
                                {
                                    "0": "10",
                                    "1": "7630,25"
                                },
                                {
                                    "0": "11",
                                    "1": "3179,50"
                                },
                                {
                                    "0": "12",
                                    "1": "238,00"
                                },
                                {
                                    "0": "14",
                                    "1": "6516,40"
                                },
                                {
                                    "0": "15",
                                    "1": "1128,00"
                                },
                                {
                                    "0": "16",
                                    "1": "787,60"
                                },
                                {
                                    "0": "17",
                                    "1": "420,00"
                                },
                                {
                                    "0": "18",
                                    "1": "487,00"
                                },
                                {
                                    "0": "19",
                                    "1": "4514,35"
                                },
                                {
                                    "0": "20",
                                    "1": "48096,27"
                                },
                                {
                                    "0": "21",
                                    "1": "3127,13"
                                },
                                {
                                    "0": "23",
                                    "1": "11666,90"
                                },
                                {
                                    "0": "24",
                                    "1": "13314,67"
                                },
                                {
                                    "0": "25",
                                    "1": "11829,79"
                                },
                                {
                                    "0": "26",
                                    "1": "920,10"
                                },
                                {
                                    "0": "27",
                                    "1": "249,70"
                                },
                                {
                                    "0": "28",
                                    "1": "5065,33"
                                },
                                {
                                    "0": "29",
                                    "1": "493,20"
                                },
                                {
                                    "0": "30",
                                    "1": "3458,35"
                                },
                                {
                                    "0": "31",
                                    "1": "8008,79"
                                },
                                {
                                    "0": "32",
                                    "1": "8565,32"
                                },
                                {
                                    "0": "33",
                                    "1": "387,50"
                                },
                                {
                                    "0": "34",
                                    "1": "6022,77"
                                },
                                {
                                    "0": "35",
                                    "1": "13482,74"
                                },
                                {
                                    "0": "36",
                                    "1": "2283,20"
                                },
                                {
                                    "0": "37",
                                    "1": "20454,41"
                                },
                                {
                                    "0": "38",
                                    "1": "2560,50"
                                },
                                {
                                    "0": "39",
                                    "1": "9664,21"
                                },
                                {
                                    "0": "41",
                                    "1": "6923,87"
                                },
                                {
                                    "0": "42",
                                    "1": "335,50"
                                },
                                {
                                    "0": "43",
                                    "1": "357,00"
                                },
                                {
                                    "0": "44",
                                    "1": "13076,13"
                                },
                                {
                                    "0": "45",
                                    "1": "1698,40"
                                },
                                {
                                    "0": "46",
                                    "1": "5175,20"
                                },
                                {
                                    "0": "47",
                                    "1": "7359,48"
                                },
                                {
                                    "0": "48",
                                    "1": "1837,20"
                                },
                                {
                                    "0": "49",
                                    "1": "4695,88"
                                },
                                {
                                    "0": "50",
                                    "1": "5297,00"
                                },
                                {
                                    "0": "51",
                                    "1": "23332,31"
                                },
                                {
                                    "0": "52",
                                    "1": "3596,40"
                                },
                                {
                                    "0": "53",
                                    "1": "604,00"
                                },
                                {
                                    "0": "54",
                                    "1": "429,20"
                                },
                                {
                                    "0": "55",
                                    "1": "5475,38"
                                },
                                {
                                    "0": "56",
                                    "1": "8254,28"
                                },
                                {
                                    "0": "58",
                                    "1": "2065,40"
                                },
                                {
                                    "0": "59",
                                    "1": "9305,58"
                                },
                                {
                                    "0": "60",
                                    "1": "1409,20"
                                },
                                {
                                    "0": "61",
                                    "1": "3502,41"
                                },
                                {
                                    "0": "62",
                                    "1": "10132,77"
                                },
                                {
                                    "0": "63",
                                    "1": "61109,92"
                                },
                                {
                                    "0": "64",
                                    "1": "1149,40"
                                },
                                {
                                    "0": "65",
                                    "1": "19383,75"
                                },
                                {
                                    "0": "66",
                                    "1": "3000,84"
                                },
                                {
                                    "0": "67",
                                    "1": "4283,78"
                                },
                                {
                                    "0": "68",
                                    "1": "11864,42"
                                },
                                {
                                    "0": "70",
                                    "1": "700,00"
                                },
                                {
                                    "0": "71",
                                    "1": "57713,58"
                                },
                                {
                                    "0": "72",
                                    "1": "9021,25"
                                },
                                {
                                    "0": "73",
                                    "1": "16232,41"
                                },
                                {
                                    "0": "74",
                                    "1": "52,35"
                                },
                                {
                                    "0": "75",
                                    "1": "2475,00"
                                },
                                {
                                    "0": "76",
                                    "1": "6137,48"
                                },
                                {
                                    "0": "77",
                                    "1": "2955,40"
                                },
                                {
                                    "0": "78",
                                    "1": "1621,24"
                                },
                                {
                                    "0": "79",
                                    "1": "2004,34"
                                },
                                {
                                    "0": "80",
                                    "1": "5523,35"
                                },
                                {
                                    "0": "81",
                                    "1": "1320,40"
                                },
                                {
                                    "0": "82",
                                    "1": "1333,30"
                                },
                                {
                                    "0": "83",
                                    "1": "8960,13"
                                },
                                {
                                    "0": "84",
                                    "1": "5807,12"
                                },
                                {
                                    "0": "85",
                                    "1": "379,80"
                                },
                                {
                                    "0": "86",
                                    "1": "4262,83"
                                },
                                {
                                    "0": "87",
                                    "1": "12262,94"
                                },
                                {
                                    "0": "88",
                                    "1": "4415,15"
                                },
                                {
                                    "0": "89",
                                    "1": "9146,51"
                                },
                                {
                                    "0": "90",
                                    "1": "1174,35"
                                },
                                {
                                    "0": "91",
                                    "1": "1207,85"
                                }
                            ]
                        },
                        "text/html": "<table><tr><th>custid</th><th>totalsalesmount</th></tr><tr><td>1</td><td>2022,50</td></tr><tr><td>2</td><td>799,75</td></tr><tr><td>3</td><td>5960,78</td></tr><tr><td>4</td><td>6406,90</td></tr><tr><td>5</td><td>13849,02</td></tr><tr><td>6</td><td>1079,80</td></tr><tr><td>7</td><td>7817,88</td></tr><tr><td>8</td><td>3026,85</td></tr><tr><td>9</td><td>11208,36</td></tr><tr><td>10</td><td>7630,25</td></tr><tr><td>11</td><td>3179,50</td></tr><tr><td>12</td><td>238,00</td></tr><tr><td>14</td><td>6516,40</td></tr><tr><td>15</td><td>1128,00</td></tr><tr><td>16</td><td>787,60</td></tr><tr><td>17</td><td>420,00</td></tr><tr><td>18</td><td>487,00</td></tr><tr><td>19</td><td>4514,35</td></tr><tr><td>20</td><td>48096,27</td></tr><tr><td>21</td><td>3127,13</td></tr><tr><td>23</td><td>11666,90</td></tr><tr><td>24</td><td>13314,67</td></tr><tr><td>25</td><td>11829,79</td></tr><tr><td>26</td><td>920,10</td></tr><tr><td>27</td><td>249,70</td></tr><tr><td>28</td><td>5065,33</td></tr><tr><td>29</td><td>493,20</td></tr><tr><td>30</td><td>3458,35</td></tr><tr><td>31</td><td>8008,79</td></tr><tr><td>32</td><td>8565,32</td></tr><tr><td>33</td><td>387,50</td></tr><tr><td>34</td><td>6022,77</td></tr><tr><td>35</td><td>13482,74</td></tr><tr><td>36</td><td>2283,20</td></tr><tr><td>37</td><td>20454,41</td></tr><tr><td>38</td><td>2560,50</td></tr><tr><td>39</td><td>9664,21</td></tr><tr><td>41</td><td>6923,87</td></tr><tr><td>42</td><td>335,50</td></tr><tr><td>43</td><td>357,00</td></tr><tr><td>44</td><td>13076,13</td></tr><tr><td>45</td><td>1698,40</td></tr><tr><td>46</td><td>5175,20</td></tr><tr><td>47</td><td>7359,48</td></tr><tr><td>48</td><td>1837,20</td></tr><tr><td>49</td><td>4695,88</td></tr><tr><td>50</td><td>5297,00</td></tr><tr><td>51</td><td>23332,31</td></tr><tr><td>52</td><td>3596,40</td></tr><tr><td>53</td><td>604,00</td></tr><tr><td>54</td><td>429,20</td></tr><tr><td>55</td><td>5475,38</td></tr><tr><td>56</td><td>8254,28</td></tr><tr><td>58</td><td>2065,40</td></tr><tr><td>59</td><td>9305,58</td></tr><tr><td>60</td><td>1409,20</td></tr><tr><td>61</td><td>3502,41</td></tr><tr><td>62</td><td>10132,77</td></tr><tr><td>63</td><td>61109,92</td></tr><tr><td>64</td><td>1149,40</td></tr><tr><td>65</td><td>19383,75</td></tr><tr><td>66</td><td>3000,84</td></tr><tr><td>67</td><td>4283,78</td></tr><tr><td>68</td><td>11864,42</td></tr><tr><td>70</td><td>700,00</td></tr><tr><td>71</td><td>57713,58</td></tr><tr><td>72</td><td>9021,25</td></tr><tr><td>73</td><td>16232,41</td></tr><tr><td>74</td><td>52,35</td></tr><tr><td>75</td><td>2475,00</td></tr><tr><td>76</td><td>6137,48</td></tr><tr><td>77</td><td>2955,40</td></tr><tr><td>78</td><td>1621,24</td></tr><tr><td>79</td><td>2004,34</td></tr><tr><td>80</td><td>5523,35</td></tr><tr><td>81</td><td>1320,40</td></tr><tr><td>82</td><td>1333,30</td></tr><tr><td>83</td><td>8960,13</td></tr><tr><td>84</td><td>5807,12</td></tr><tr><td>85</td><td>379,80</td></tr><tr><td>86</td><td>4262,83</td></tr><tr><td>87</td><td>12262,94</td></tr><tr><td>88</td><td>4415,15</td></tr><tr><td>89</td><td>9146,51</td></tr><tr><td>90</td><td>1174,35</td></tr><tr><td>91</td><td>1207,85</td></tr></table>"
                    },
                    "metadata": {}
                }
            ],
            "execution_count": 9
        },
        {
            "cell_type": "markdown",
            "source": "4.2. Define an inline TVF using the following function header and add your previous query after the\r\nRETURN clause:\r\nModify the query by replacing the constant year value 2007 in the WHERE clause with the parameter\r\n@orderyear",
            "metadata": {}
        },
        {
            "cell_type": "code",
            "source": "CREATE FUNCTION dbo.fnGetSalesByCustomer\r\n(@orderyear AS INT) RETURNS TABLE\r\nAS\r\nRETURN\r\n    select custid,SUM(val) as totalsalesmount\r\nFROM Sales.OrderValues\r\nwhere year(orderdate)=@orderyear\r\ngroup by custid;\r\ngo",
            "metadata": {},
            "outputs": [
                {
                    "output_type": "display_data",
                    "data": {
                        "text/html": "Commands completed successfully."
                    },
                    "metadata": {}
                },
                {
                    "output_type": "display_data",
                    "data": {
                        "text/html": "Total execution time: 00:00:00.001"
                    },
                    "metadata": {}
                }
            ],
            "execution_count": 10
        },
        {
            "cell_type": "markdown",
            "source": "4.3. Write a SELECT statement that retrieves the top three sold products based on the total sales value for the customer\r\nwith ID 1. Return the productid and productname columns from the Production.Products table. Use\r\nthe qty and unitprice columns from the Sales.OrderDetails table to compute each order line’s value,\r\nand return the sum of all values per product, naming the resulting column totalsalesamount. Filter the\r\nresults to include only the rows where the custid value is equal to 1.",
            "metadata": {}
        },
        {
            "cell_type": "code",
            "source": "SELECT TOP(3)\r\n    d.productid,\r\n    MAX(p.productname) AS productname,\r\n    SUM(d.qty*d.unitprice) AS totalsalesmount\r\nFROM Sales.Orders AS o\r\ninner join Sales.OrderDetails AS d on d.orderid=o.orderid\r\ninner join Production.Products AS p on p.productid=d.productid\r\nWHERE custid=1\r\nGROUP BY d.productid\r\norder by totalsalesmount DESC;\r\ngo",
            "metadata": {},
            "outputs": [
                {
                    "output_type": "display_data",
                    "data": {
                        "text/html": "(3 rows affected)"
                    },
                    "metadata": {}
                },
                {
                    "output_type": "display_data",
                    "data": {
                        "text/html": "Total execution time: 00:00:00.011"
                    },
                    "metadata": {}
                },
                {
                    "output_type": "execute_result",
                    "execution_count": 11,
                    "data": {
                        "application/vnd.dataresource+json": {
                            "schema": {
                                "fields": [
                                    {
                                        "name": "productid"
                                    },
                                    {
                                        "name": "productname"
                                    },
                                    {
                                        "name": "totalsalesmount"
                                    }
                                ]
                            },
                            "data": [
                                {
                                    "0": "63",
                                    "1": "Product ICKNK",
                                    "2": "878,0000"
                                },
                                {
                                    "0": "59",
                                    "1": "Product UKXRI",
                                    "2": "825,0000"
                                },
                                {
                                    "0": "28",
                                    "1": "Product OFBNT",
                                    "2": "775,2000"
                                }
                            ]
                        },
                        "text/html": "<table><tr><th>productid</th><th>productname</th><th>totalsalesmount</th></tr><tr><td>63</td><td>Product ICKNK</td><td>878,0000</td></tr><tr><td>59</td><td>Product UKXRI</td><td>825,0000</td></tr><tr><td>28</td><td>Product OFBNT</td><td>775,2000</td></tr></table>"
                    },
                    "metadata": {}
                }
            ],
            "execution_count": 11
        },
        {
            "cell_type": "markdown",
            "source": "4.4. Create an inline TVF based on the following function header, using the previous SELECT statement.\r\nReplace the constant custid value 1 in the query with the function’s input parameter @custid:",
            "metadata": {}
        },
        {
            "cell_type": "code",
            "source": "CREATE FUNCTION dbo.fnGetTop3ProductsForCustomer\r\n(@custid AS INT) RETURNS TABLE\r\nAS\r\nRETURN\r\nSELECT TOP(3)\r\n    d.productid,\r\n    MAX(p.productname) AS productname,\r\n    SUM(d.qty*d.unitprice) AS totalsalesmount\r\nFROM Sales.Orders AS o\r\ninner join Sales.OrderDetails AS d on d.orderid=o.orderid\r\ninner join Production.Products AS p on p.productid=d.productid\r\nWHERE custid=@custid\r\nGROUP BY d.productid\r\norder by totalsalesmount DESC;\r\ngo",
            "metadata": {},
            "outputs": [
                {
                    "output_type": "display_data",
                    "data": {
                        "text/html": "Commands completed successfully."
                    },
                    "metadata": {}
                },
                {
                    "output_type": "display_data",
                    "data": {
                        "text/html": "Total execution time: 00:00:00.004"
                    },
                    "metadata": {}
                }
            ],
            "execution_count": 12
        },
        {
            "cell_type": "markdown",
            "source": "4.5. Test the created inline TVF by writing a SELECT statement against it and use the value 1 for the\r\ncustomer ID parameter. Retrieve the productid, productname, and totalsalesamount columns, and use\r\nthe alias “p” for the inline TVF",
            "metadata": {}
        },
        {
            "cell_type": "code",
            "source": "SELECT \r\np.productid,\r\np.productname,\r\np.totalsalesmount\r\nfrom dbo.fnGetTop3ProductsForCustomer(5) as p",
            "metadata": {},
            "outputs": [
                {
                    "output_type": "display_data",
                    "data": {
                        "text/html": "(3 rows affected)"
                    },
                    "metadata": {}
                },
                {
                    "output_type": "display_data",
                    "data": {
                        "text/html": "Total execution time: 00:00:00.005"
                    },
                    "metadata": {}
                },
                {
                    "output_type": "execute_result",
                    "execution_count": 13,
                    "data": {
                        "application/vnd.dataresource+json": {
                            "schema": {
                                "fields": [
                                    {
                                        "name": "productid"
                                    },
                                    {
                                        "name": "productname"
                                    },
                                    {
                                        "name": "totalsalesmount"
                                    }
                                ]
                            },
                            "data": [
                                {
                                    "0": "38",
                                    "1": "Product QDOMO",
                                    "2": "3952,5000"
                                },
                                {
                                    "0": "43",
                                    "1": "Product ZZZHR",
                                    "2": "2760,0000"
                                },
                                {
                                    "0": "28",
                                    "1": "Product OFBNT",
                                    "2": "2280,0000"
                                }
                            ]
                        },
                        "text/html": "<table><tr><th>productid</th><th>productname</th><th>totalsalesmount</th></tr><tr><td>38</td><td>Product QDOMO</td><td>3952,5000</td></tr><tr><td>43</td><td>Product ZZZHR</td><td>2760,0000</td></tr><tr><td>28</td><td>Product OFBNT</td><td>2280,0000</td></tr></table>"
                    },
                    "metadata": {}
                }
            ],
            "execution_count": 13
        },
        {
            "cell_type": "markdown",
            "source": "4.6. Escribir el código necesario para limpiar todos los cambios realizados",
            "metadata": {}
        },
        {
            "cell_type": "code",
            "source": "DROP VIEW Production.ProductsBeverages;\r\nGO\r\nDROP FUNCTION dbo.fnGetSalesByCustomer;\r\nGO\r\nDROP FUNCTION dbo.fnGetTop3ProductsForCustomer;\r\nGO",
            "metadata": {},
            "outputs": [
                {
                    "output_type": "display_data",
                    "data": {
                        "text/html": "Commands completed successfully."
                    },
                    "metadata": {}
                },
                {
                    "output_type": "error",
                    "evalue": "Msg 3701, Level 11, State 5, Line 2\r\nNo se puede quitar el función 'dbo.fnGetSalesByCustomer' porque no existe o el usuario no tiene permiso.",
                    "ename": "",
                    "traceback": []
                },
                {
                    "output_type": "error",
                    "evalue": "Msg 3701, Level 11, State 5, Line 4\r\nNo se puede quitar el función 'dbo.fnGetTop3ProductsForCustomer' porque no existe o el usuario no tiene permiso.",
                    "ename": "",
                    "traceback": []
                },
                {
                    "output_type": "display_data",
                    "data": {
                        "text/html": "Total execution time: 00:00:00.002"
                    },
                    "metadata": {}
                }
            ],
            "execution_count": 16
        }
    ]
}